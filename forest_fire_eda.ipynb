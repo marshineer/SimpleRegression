{
 "cells": [
  {
   "cell_type": "markdown",
   "id": "05f2b256-c9b5-4f4d-b99d-5eb84c585092",
   "metadata": {},
   "source": [
    "# Forest Fire Burn Area EDA\n",
    "Written by: Marshall Mykietyshyn\n",
    "\n",
    "Data hosted on [UCI Machine Learning Repository](http://archive.ics.uci.edu/ml/datasets/Forest+Fires)."
   ]
  },
  {
   "cell_type": "markdown",
   "id": "7d377962-615c-4780-a816-07ea85b14523",
   "metadata": {},
   "source": [
    "The purpose of this notebook is to do a preliminary exploratory data analysis (EDA) on the forest fire burn area dataset. This is a popular regression dataset found on both Kaggle and the UCI Machine Learning Repository. The two data sets are identical, but the one used here was downloaded from UCI. The target variable is burn area, which can be predicted by a set of feature variables listed below.\n"
   ]
  },
  {
   "cell_type": "code",
   "execution_count": null,
   "id": "48fd10db-8c2a-4759-9c8d-dddef13981c7",
   "metadata": {},
   "outputs": [],
   "source": []
  }
 ],
 "metadata": {
  "kernelspec": {
   "display_name": "Python 3 (ipykernel)",
   "language": "python",
   "name": "python3"
  },
  "language_info": {
   "codemirror_mode": {
    "name": "ipython",
    "version": 3
   },
   "file_extension": ".py",
   "mimetype": "text/x-python",
   "name": "python",
   "nbconvert_exporter": "python",
   "pygments_lexer": "ipython3",
   "version": "3.10.6"
  }
 },
 "nbformat": 4,
 "nbformat_minor": 5
}
