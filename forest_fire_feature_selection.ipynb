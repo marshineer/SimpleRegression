{
 "cells": [
  {
   "cell_type": "markdown",
   "id": "8e06da27-5189-44e8-96c3-fb85c693c9a6",
   "metadata": {},
   "source": [
    "# Forest Fire Burn Area Feature Selection\n",
    "Written by: Marshall Mykietyshyn\n",
    "\n",
    "Data hosted on [UCI Machine Learning Repository](http://archive.ics.uci.edu/ml/datasets/Forest+Fires)."
   ]
  },
  {
   "cell_type": "markdown",
   "id": "fccd36e6-1b5d-4b6d-ad67-2b985a0e5ace",
   "metadata": {},
   "source": [
    "The purpose of this notebook is to perform feature selection on the forest fire burn area dataset, testing its affect on the results. This is a popular regression dataset found on both Kaggle and the UCI Machine Learning Repository. The two data sets are identical, but the one used here was downloaded from UCI. The target variable is burn area, which can be predicted by a set of feature variables listed below.\n"
   ]
  },
  {
   "cell_type": "code",
   "execution_count": null,
   "id": "6b4317c3-213f-4dfb-a5b3-1bd961ec41e2",
   "metadata": {},
   "outputs": [],
   "source": []
  }
 ],
 "metadata": {
  "kernelspec": {
   "display_name": "Python 3 (ipykernel)",
   "language": "python",
   "name": "python3"
  },
  "language_info": {
   "codemirror_mode": {
    "name": "ipython",
    "version": 3
   },
   "file_extension": ".py",
   "mimetype": "text/x-python",
   "name": "python",
   "nbconvert_exporter": "python",
   "pygments_lexer": "ipython3",
   "version": "3.10.6"
  }
 },
 "nbformat": 4,
 "nbformat_minor": 5
}
