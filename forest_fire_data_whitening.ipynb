{
 "cells": [
  {
   "cell_type": "markdown",
   "id": "861d9e46-428f-453e-a23a-fa62b4e67ca2",
   "metadata": {},
   "source": [
    "# Forest Fire Burn Area Data Whitening Analysis\n",
    "Written by: Marshall Mykietyshyn\n",
    "\n",
    "Data hosted on [UCI Machine Learning Repository](http://archive.ics.uci.edu/ml/datasets/Forest+Fires)."
   ]
  },
  {
   "cell_type": "markdown",
   "id": "dd9e32e6-d97e-40d9-8c60-93318f47c71e",
   "metadata": {},
   "source": [
    "The purpose of this notebook is to determine the effects of whitening on the forest fire burn area dataset. This is a popular regression dataset found on both Kaggle and the UCI Machine Learning Repository. The two data sets are identical, but the one used here was downloaded from UCI. The target variable is burn area, which can be predicted by a set of feature variables listed below.\n"
   ]
  },
  {
   "cell_type": "code",
   "execution_count": null,
   "id": "2a17dcb3-c0e2-4d68-aa37-ee4950799dd7",
   "metadata": {},
   "outputs": [],
   "source": []
  }
 ],
 "metadata": {
  "kernelspec": {
   "display_name": "Python 3 (ipykernel)",
   "language": "python",
   "name": "python3"
  },
  "language_info": {
   "codemirror_mode": {
    "name": "ipython",
    "version": 3
   },
   "file_extension": ".py",
   "mimetype": "text/x-python",
   "name": "python",
   "nbconvert_exporter": "python",
   "pygments_lexer": "ipython3",
   "version": "3.10.6"
  }
 },
 "nbformat": 4,
 "nbformat_minor": 5
}
