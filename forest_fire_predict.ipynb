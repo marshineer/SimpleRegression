{
 "cells": [
  {
   "cell_type": "markdown",
   "id": "aece69a9-dfc7-4fde-b926-2b64c8cd9ed3",
   "metadata": {},
   "source": [
    "# Forest Fire Burn Area Prediction\n",
    "Written by: Marshall Mykietyshyn\n",
    "\n",
    "Data hosted on [UCI Machine Learning Repository](http://archive.ics.uci.edu/ml/datasets/Forest+Fires)."
   ]
  },
  {
   "cell_type": "markdown",
   "id": "ab2417ae-c668-45ce-b5d4-1e7b7914a45e",
   "metadata": {},
   "source": [
    "The purpose of this notebook is to predict the forest fire burn area. This is a popular regression dataset found on both Kaggle and the UCI Machine Learning Repository. The two data sets are identical, but the one used here was downloaded from UCI. The forest fire weather index (FWI) system features FFMC, DMC, DC and ISI are described [here](https://cwfis.cfs.nrcan.gc.ca/background/summary/fwi). The target variable is burn area, which can be predicted by a set of feature variables listed below. The data to be used is already pre-processed by checking for missing values, outliers and converting the categorical features numerical values. However, there are unbalanced features that must be addressed, the target has nearly a 50% proportion of zeros, and the features are generally not Gaussian distributed. \n",
    "\n",
    "1. X - x-axis spatial coordinate within the Montesinho park map: 1 to 9\n",
    "2. Y - y-axis spatial coordinate within the Montesinho park map: 2 to 9\n",
    "3. month - month of the year: 0 to 11\n",
    "4. day - day of the week: 0 to 6\n",
    "5. FFMC - FFMC index from the FWI system: 18.7 to 96.20\n",
    "6. DMC - DMC index from the FWI system: 1.1 to 291.3\n",
    "7. DC - DC index from the FWI system: 7.9 to 860.6\n",
    "8. ISI - ISI index from the FWI system: 0.0 to 56.10\n",
    "9. temp - temperature in Celsius degrees: 2.2 to 33.30\n",
    "10. RH - relative humidity in %: 15.0 to 100\n",
    "11. wind - wind speed in km/h: 0.40 to 9.40\n",
    "12. rain - outside rain in mm/m2 : 0.0 to 6.4\n",
    "13. area - the burned area of the forest (in ha): 0.00 to 1090.84"
   ]
  },
  {
   "cell_type": "markdown",
   "id": "632e6b9f-295d-438f-9a31-6bbd7ac32ae0",
   "metadata": {},
   "source": [
    "Notes:\n",
    "- First, try predicting burn area directly\n",
    "    - Resample to account for feature imbalances\n",
    "    - Eliminate day category as it is likely just noise\n",
    "    - Maybe eliminate rain due to high number of zeros\n",
    "- Second, split the problem into classification (predict whether a fire occurs) and regression (if there is a fire, predict the burn area)\n",
    "    - Can represent the results as a joint probability see [here](https://datascience.stackexchange.com/questions/25576/best-method-to-deal-with-too-many-zeroes-in-regression-problem)\n",
    "- Look at the effects of whitening to improve model performance\n",
    "- Maximize predictive capabilities of model\n",
    "    - Do some research to determine which model is best suited to the task"
   ]
  },
  {
   "cell_type": "code",
   "execution_count": null,
   "id": "106c2964-99b9-496b-aa8b-59852bf505dc",
   "metadata": {},
   "outputs": [],
   "source": []
  }
 ],
 "metadata": {
  "kernelspec": {
   "display_name": "Python 3 (ipykernel)",
   "language": "python",
   "name": "python3"
  },
  "language_info": {
   "codemirror_mode": {
    "name": "ipython",
    "version": 3
   },
   "file_extension": ".py",
   "mimetype": "text/x-python",
   "name": "python",
   "nbconvert_exporter": "python",
   "pygments_lexer": "ipython3",
   "version": "3.10.6"
  }
 },
 "nbformat": 4,
 "nbformat_minor": 5
}
